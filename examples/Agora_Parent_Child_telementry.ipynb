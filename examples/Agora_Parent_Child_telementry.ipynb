{
  "nbformat": 4,
  "nbformat_minor": 0,
  "metadata": {
    "colab": {
      "provenance": [],
      "gpuType": "A100"
    },
    "kernelspec": {
      "name": "python3",
      "display_name": "Python 3"
    },
    "language_info": {
      "name": "python"
    },
    "accelerator": "GPU"
  },
  "cells": [
    {
      "cell_type": "code",
      "execution_count": 10,
      "metadata": {
        "colab": {
          "base_uri": "https://localhost:8080/"
        },
        "id": "cFEQNo7mC8nj",
        "outputId": "d01d330b-bb6c-46e5-dfa6-655ec47042f9"
      },
      "outputs": [
        {
          "output_type": "stream",
          "name": "stdout",
          "text": [
            "Collecting git+https://github.com/JerzyKultura/Agora.git\n",
            "  Cloning https://github.com/JerzyKultura/Agora.git to /tmp/pip-req-build-y05c4yn4\n",
            "  Running command git clone --filter=blob:none --quiet https://github.com/JerzyKultura/Agora.git /tmp/pip-req-build-y05c4yn4\n",
            "  Resolved https://github.com/JerzyKultura/Agora.git to commit 47229c1ea5fbbc2215b874b69bc3660be8543541\n",
            "  Installing build dependencies ... \u001b[?25l\u001b[?25hdone\n",
            "  Getting requirements to build wheel ... \u001b[?25l\u001b[?25hdone\n",
            "  Preparing metadata (pyproject.toml) ... \u001b[?25l\u001b[?25hdone\n",
            "Requirement already satisfied: openai in /usr/local/lib/python3.12/dist-packages (1.109.1)\n",
            "Requirement already satisfied: pyyaml in /usr/local/lib/python3.12/dist-packages (6.0.3)\n",
            "Requirement already satisfied: anyio<5,>=3.5.0 in /usr/local/lib/python3.12/dist-packages (from openai) (4.11.0)\n",
            "Requirement already satisfied: distro<2,>=1.7.0 in /usr/local/lib/python3.12/dist-packages (from openai) (1.9.0)\n",
            "Requirement already satisfied: httpx<1,>=0.23.0 in /usr/local/lib/python3.12/dist-packages (from openai) (0.28.1)\n",
            "Requirement already satisfied: jiter<1,>=0.4.0 in /usr/local/lib/python3.12/dist-packages (from openai) (0.11.0)\n",
            "Requirement already satisfied: pydantic<3,>=1.9.0 in /usr/local/lib/python3.12/dist-packages (from openai) (2.11.9)\n",
            "Requirement already satisfied: sniffio in /usr/local/lib/python3.12/dist-packages (from openai) (1.3.1)\n",
            "Requirement already satisfied: tqdm>4 in /usr/local/lib/python3.12/dist-packages (from openai) (4.67.1)\n",
            "Requirement already satisfied: typing-extensions<5,>=4.11 in /usr/local/lib/python3.12/dist-packages (from openai) (4.15.0)\n",
            "Requirement already satisfied: idna>=2.8 in /usr/local/lib/python3.12/dist-packages (from anyio<5,>=3.5.0->openai) (3.10)\n",
            "Requirement already satisfied: certifi in /usr/local/lib/python3.12/dist-packages (from httpx<1,>=0.23.0->openai) (2025.8.3)\n",
            "Requirement already satisfied: httpcore==1.* in /usr/local/lib/python3.12/dist-packages (from httpx<1,>=0.23.0->openai) (1.0.9)\n",
            "Requirement already satisfied: h11>=0.16 in /usr/local/lib/python3.12/dist-packages (from httpcore==1.*->httpx<1,>=0.23.0->openai) (0.16.0)\n",
            "Requirement already satisfied: annotated-types>=0.6.0 in /usr/local/lib/python3.12/dist-packages (from pydantic<3,>=1.9.0->openai) (0.7.0)\n",
            "Requirement already satisfied: pydantic-core==2.33.2 in /usr/local/lib/python3.12/dist-packages (from pydantic<3,>=1.9.0->openai) (2.33.2)\n",
            "Requirement already satisfied: typing-inspection>=0.4.0 in /usr/local/lib/python3.12/dist-packages (from pydantic<3,>=1.9.0->openai) (0.4.2)\n",
            "Requirement already satisfied: opentelemetry-api in /usr/local/lib/python3.12/dist-packages (1.37.0)\n",
            "Requirement already satisfied: opentelemetry-sdk in /usr/local/lib/python3.12/dist-packages (1.37.0)\n",
            "Requirement already satisfied: importlib-metadata<8.8.0,>=6.0 in /usr/local/lib/python3.12/dist-packages (from opentelemetry-api) (8.7.0)\n",
            "Requirement already satisfied: typing-extensions>=4.5.0 in /usr/local/lib/python3.12/dist-packages (from opentelemetry-api) (4.15.0)\n",
            "Requirement already satisfied: opentelemetry-semantic-conventions==0.58b0 in /usr/local/lib/python3.12/dist-packages (from opentelemetry-sdk) (0.58b0)\n",
            "Requirement already satisfied: zipp>=3.20 in /usr/local/lib/python3.12/dist-packages (from importlib-metadata<8.8.0,>=6.0->opentelemetry-api) (3.23.0)\n",
            "Requirement already satisfied: opentelemetry-instrumentation-openai in /usr/local/lib/python3.12/dist-packages (0.47.3)\n",
            "Requirement already satisfied: opentelemetry-api<2.0.0,>=1.28.0 in /usr/local/lib/python3.12/dist-packages (from opentelemetry-instrumentation-openai) (1.37.0)\n",
            "Requirement already satisfied: opentelemetry-instrumentation>=0.50b0 in /usr/local/lib/python3.12/dist-packages (from opentelemetry-instrumentation-openai) (0.58b0)\n",
            "Requirement already satisfied: opentelemetry-semantic-conventions>=0.50b0 in /usr/local/lib/python3.12/dist-packages (from opentelemetry-instrumentation-openai) (0.58b0)\n",
            "Requirement already satisfied: opentelemetry-semantic-conventions-ai<0.5.0,>=0.4.13 in /usr/local/lib/python3.12/dist-packages (from opentelemetry-instrumentation-openai) (0.4.13)\n",
            "Requirement already satisfied: importlib-metadata<8.8.0,>=6.0 in /usr/local/lib/python3.12/dist-packages (from opentelemetry-api<2.0.0,>=1.28.0->opentelemetry-instrumentation-openai) (8.7.0)\n",
            "Requirement already satisfied: typing-extensions>=4.5.0 in /usr/local/lib/python3.12/dist-packages (from opentelemetry-api<2.0.0,>=1.28.0->opentelemetry-instrumentation-openai) (4.15.0)\n",
            "Requirement already satisfied: packaging>=18.0 in /usr/local/lib/python3.12/dist-packages (from opentelemetry-instrumentation>=0.50b0->opentelemetry-instrumentation-openai) (25.0)\n",
            "Requirement already satisfied: wrapt<2.0.0,>=1.0.0 in /usr/local/lib/python3.12/dist-packages (from opentelemetry-instrumentation>=0.50b0->opentelemetry-instrumentation-openai) (1.17.3)\n",
            "Requirement already satisfied: zipp>=3.20 in /usr/local/lib/python3.12/dist-packages (from importlib-metadata<8.8.0,>=6.0->opentelemetry-api<2.0.0,>=1.28.0->opentelemetry-instrumentation-openai) (3.23.0)\n",
            "Requirement already satisfied: fastmcp in /usr/local/lib/python3.12/dist-packages (2.12.4)\n",
            "Requirement already satisfied: openai in /usr/local/lib/python3.12/dist-packages (1.109.1)\n",
            "Requirement already satisfied: authlib>=1.5.2 in /usr/local/lib/python3.12/dist-packages (from fastmcp) (1.6.4)\n",
            "Requirement already satisfied: cyclopts>=3.0.0 in /usr/local/lib/python3.12/dist-packages (from fastmcp) (3.24.0)\n",
            "Requirement already satisfied: exceptiongroup>=1.2.2 in /usr/local/lib/python3.12/dist-packages (from fastmcp) (1.3.0)\n",
            "Requirement already satisfied: httpx>=0.28.1 in /usr/local/lib/python3.12/dist-packages (from fastmcp) (0.28.1)\n",
            "Requirement already satisfied: mcp<2.0.0,>=1.12.4 in /usr/local/lib/python3.12/dist-packages (from fastmcp) (1.15.0)\n",
            "Requirement already satisfied: openapi-core>=0.19.5 in /usr/local/lib/python3.12/dist-packages (from fastmcp) (0.19.5)\n",
            "Requirement already satisfied: openapi-pydantic>=0.5.1 in /usr/local/lib/python3.12/dist-packages (from fastmcp) (0.5.1)\n",
            "Requirement already satisfied: pydantic>=2.11.7 in /usr/local/lib/python3.12/dist-packages (from pydantic[email]>=2.11.7->fastmcp) (2.11.9)\n",
            "Requirement already satisfied: pyperclip>=1.9.0 in /usr/local/lib/python3.12/dist-packages (from fastmcp) (1.11.0)\n",
            "Requirement already satisfied: python-dotenv>=1.1.0 in /usr/local/lib/python3.12/dist-packages (from fastmcp) (1.1.1)\n",
            "Requirement already satisfied: rich>=13.9.4 in /usr/local/lib/python3.12/dist-packages (from fastmcp) (13.9.4)\n",
            "Requirement already satisfied: anyio<5,>=3.5.0 in /usr/local/lib/python3.12/dist-packages (from openai) (4.11.0)\n",
            "Requirement already satisfied: distro<2,>=1.7.0 in /usr/local/lib/python3.12/dist-packages (from openai) (1.9.0)\n",
            "Requirement already satisfied: jiter<1,>=0.4.0 in /usr/local/lib/python3.12/dist-packages (from openai) (0.11.0)\n",
            "Requirement already satisfied: sniffio in /usr/local/lib/python3.12/dist-packages (from openai) (1.3.1)\n",
            "Requirement already satisfied: tqdm>4 in /usr/local/lib/python3.12/dist-packages (from openai) (4.67.1)\n",
            "Requirement already satisfied: typing-extensions<5,>=4.11 in /usr/local/lib/python3.12/dist-packages (from openai) (4.15.0)\n",
            "Requirement already satisfied: idna>=2.8 in /usr/local/lib/python3.12/dist-packages (from anyio<5,>=3.5.0->openai) (3.10)\n",
            "Requirement already satisfied: cryptography in /usr/local/lib/python3.12/dist-packages (from authlib>=1.5.2->fastmcp) (43.0.3)\n",
            "Requirement already satisfied: attrs>=23.1.0 in /usr/local/lib/python3.12/dist-packages (from cyclopts>=3.0.0->fastmcp) (25.3.0)\n",
            "Requirement already satisfied: docstring-parser>=0.15 in /usr/local/lib/python3.12/dist-packages (from cyclopts>=3.0.0->fastmcp) (0.17.0)\n",
            "Requirement already satisfied: rich-rst<2.0.0,>=1.3.1 in /usr/local/lib/python3.12/dist-packages (from cyclopts>=3.0.0->fastmcp) (1.3.1)\n",
            "Requirement already satisfied: certifi in /usr/local/lib/python3.12/dist-packages (from httpx>=0.28.1->fastmcp) (2025.8.3)\n",
            "Requirement already satisfied: httpcore==1.* in /usr/local/lib/python3.12/dist-packages (from httpx>=0.28.1->fastmcp) (1.0.9)\n",
            "Requirement already satisfied: h11>=0.16 in /usr/local/lib/python3.12/dist-packages (from httpcore==1.*->httpx>=0.28.1->fastmcp) (0.16.0)\n",
            "Requirement already satisfied: httpx-sse>=0.4 in /usr/local/lib/python3.12/dist-packages (from mcp<2.0.0,>=1.12.4->fastmcp) (0.4.1)\n",
            "Requirement already satisfied: jsonschema>=4.20.0 in /usr/local/lib/python3.12/dist-packages (from mcp<2.0.0,>=1.12.4->fastmcp) (4.25.1)\n",
            "Requirement already satisfied: pydantic-settings>=2.5.2 in /usr/local/lib/python3.12/dist-packages (from mcp<2.0.0,>=1.12.4->fastmcp) (2.11.0)\n",
            "Requirement already satisfied: python-multipart>=0.0.9 in /usr/local/lib/python3.12/dist-packages (from mcp<2.0.0,>=1.12.4->fastmcp) (0.0.20)\n",
            "Requirement already satisfied: sse-starlette>=1.6.1 in /usr/local/lib/python3.12/dist-packages (from mcp<2.0.0,>=1.12.4->fastmcp) (3.0.2)\n",
            "Requirement already satisfied: starlette>=0.27 in /usr/local/lib/python3.12/dist-packages (from mcp<2.0.0,>=1.12.4->fastmcp) (0.48.0)\n",
            "Requirement already satisfied: uvicorn>=0.31.1 in /usr/local/lib/python3.12/dist-packages (from mcp<2.0.0,>=1.12.4->fastmcp) (0.37.0)\n",
            "Requirement already satisfied: isodate in /usr/local/lib/python3.12/dist-packages (from openapi-core>=0.19.5->fastmcp) (0.7.2)\n",
            "Requirement already satisfied: jsonschema-path<0.4.0,>=0.3.1 in /usr/local/lib/python3.12/dist-packages (from openapi-core>=0.19.5->fastmcp) (0.3.4)\n",
            "Requirement already satisfied: more-itertools in /usr/local/lib/python3.12/dist-packages (from openapi-core>=0.19.5->fastmcp) (10.8.0)\n",
            "Requirement already satisfied: openapi-schema-validator<0.7.0,>=0.6.0 in /usr/local/lib/python3.12/dist-packages (from openapi-core>=0.19.5->fastmcp) (0.6.3)\n",
            "Requirement already satisfied: openapi-spec-validator<0.8.0,>=0.7.1 in /usr/local/lib/python3.12/dist-packages (from openapi-core>=0.19.5->fastmcp) (0.7.2)\n",
            "Requirement already satisfied: parse in /usr/local/lib/python3.12/dist-packages (from openapi-core>=0.19.5->fastmcp) (1.20.2)\n",
            "Requirement already satisfied: werkzeug<3.1.2 in /usr/local/lib/python3.12/dist-packages (from openapi-core>=0.19.5->fastmcp) (3.1.1)\n",
            "Requirement already satisfied: annotated-types>=0.6.0 in /usr/local/lib/python3.12/dist-packages (from pydantic>=2.11.7->pydantic[email]>=2.11.7->fastmcp) (0.7.0)\n",
            "Requirement already satisfied: pydantic-core==2.33.2 in /usr/local/lib/python3.12/dist-packages (from pydantic>=2.11.7->pydantic[email]>=2.11.7->fastmcp) (2.33.2)\n",
            "Requirement already satisfied: typing-inspection>=0.4.0 in /usr/local/lib/python3.12/dist-packages (from pydantic>=2.11.7->pydantic[email]>=2.11.7->fastmcp) (0.4.2)\n",
            "Requirement already satisfied: email-validator>=2.0.0 in /usr/local/lib/python3.12/dist-packages (from pydantic[email]>=2.11.7->fastmcp) (2.3.0)\n",
            "Requirement already satisfied: markdown-it-py>=2.2.0 in /usr/local/lib/python3.12/dist-packages (from rich>=13.9.4->fastmcp) (4.0.0)\n",
            "Requirement already satisfied: pygments<3.0.0,>=2.13.0 in /usr/local/lib/python3.12/dist-packages (from rich>=13.9.4->fastmcp) (2.19.2)\n",
            "Requirement already satisfied: dnspython>=2.0.0 in /usr/local/lib/python3.12/dist-packages (from email-validator>=2.0.0->pydantic[email]>=2.11.7->fastmcp) (2.8.0)\n",
            "Requirement already satisfied: jsonschema-specifications>=2023.03.6 in /usr/local/lib/python3.12/dist-packages (from jsonschema>=4.20.0->mcp<2.0.0,>=1.12.4->fastmcp) (2025.9.1)\n",
            "Requirement already satisfied: referencing>=0.28.4 in /usr/local/lib/python3.12/dist-packages (from jsonschema>=4.20.0->mcp<2.0.0,>=1.12.4->fastmcp) (0.36.2)\n",
            "Requirement already satisfied: rpds-py>=0.7.1 in /usr/local/lib/python3.12/dist-packages (from jsonschema>=4.20.0->mcp<2.0.0,>=1.12.4->fastmcp) (0.27.1)\n",
            "Requirement already satisfied: PyYAML>=5.1 in /usr/local/lib/python3.12/dist-packages (from jsonschema-path<0.4.0,>=0.3.1->openapi-core>=0.19.5->fastmcp) (6.0.3)\n",
            "Requirement already satisfied: pathable<0.5.0,>=0.4.1 in /usr/local/lib/python3.12/dist-packages (from jsonschema-path<0.4.0,>=0.3.1->openapi-core>=0.19.5->fastmcp) (0.4.4)\n",
            "Requirement already satisfied: requests<3.0.0,>=2.31.0 in /usr/local/lib/python3.12/dist-packages (from jsonschema-path<0.4.0,>=0.3.1->openapi-core>=0.19.5->fastmcp) (2.32.4)\n",
            "Requirement already satisfied: mdurl~=0.1 in /usr/local/lib/python3.12/dist-packages (from markdown-it-py>=2.2.0->rich>=13.9.4->fastmcp) (0.1.2)\n",
            "Requirement already satisfied: rfc3339-validator in /usr/local/lib/python3.12/dist-packages (from openapi-schema-validator<0.7.0,>=0.6.0->openapi-core>=0.19.5->fastmcp) (0.1.4)\n",
            "Requirement already satisfied: lazy-object-proxy<2.0.0,>=1.7.1 in /usr/local/lib/python3.12/dist-packages (from openapi-spec-validator<0.8.0,>=0.7.1->openapi-core>=0.19.5->fastmcp) (1.12.0)\n",
            "Requirement already satisfied: docutils in /usr/local/lib/python3.12/dist-packages (from rich-rst<2.0.0,>=1.3.1->cyclopts>=3.0.0->fastmcp) (0.21.2)\n",
            "Requirement already satisfied: click>=7.0 in /usr/local/lib/python3.12/dist-packages (from uvicorn>=0.31.1->mcp<2.0.0,>=1.12.4->fastmcp) (8.3.0)\n",
            "Requirement already satisfied: MarkupSafe>=2.1.1 in /usr/local/lib/python3.12/dist-packages (from werkzeug<3.1.2->openapi-core>=0.19.5->fastmcp) (3.0.3)\n",
            "Requirement already satisfied: cffi>=1.12 in /usr/local/lib/python3.12/dist-packages (from cryptography->authlib>=1.5.2->fastmcp) (2.0.0)\n",
            "Requirement already satisfied: pycparser in /usr/local/lib/python3.12/dist-packages (from cffi>=1.12->cryptography->authlib>=1.5.2->fastmcp) (2.23)\n",
            "Requirement already satisfied: charset_normalizer<4,>=2 in /usr/local/lib/python3.12/dist-packages (from requests<3.0.0,>=2.31.0->jsonschema-path<0.4.0,>=0.3.1->openapi-core>=0.19.5->fastmcp) (3.4.3)\n",
            "Requirement already satisfied: urllib3<3,>=1.21.1 in /usr/local/lib/python3.12/dist-packages (from requests<3.0.0,>=2.31.0->jsonschema-path<0.4.0,>=0.3.1->openapi-core>=0.19.5->fastmcp) (2.5.0)\n",
            "Requirement already satisfied: six in /usr/local/lib/python3.12/dist-packages (from rfc3339-validator->openapi-schema-validator<0.7.0,>=0.6.0->openapi-core>=0.19.5->fastmcp) (1.17.0)\n"
          ]
        }
      ],
      "source": [
        "!pip install git+https://github.com/JerzyKultura/Agora.git\n",
        "!pip install openai pyyaml\n",
        "!pip install opentelemetry-api opentelemetry-sdk\n",
        "!pip install opentelemetry-instrumentation-openai\n",
        "!pip install fastmcp openai"
      ]
    },
    {
      "cell_type": "code",
      "source": [
        "import os"
      ],
      "metadata": {
        "id": "7eJlIuSvDlKO"
      },
      "execution_count": 11,
      "outputs": []
    },
    {
      "cell_type": "code",
      "source": [
        "from agora.instrument import init_otel\n",
        "from agora.telemetry import AuditLogger, AuditedAsyncFlow, AuditedAsyncNode\n",
        "from openai import OpenAI\n",
        "import asyncio\n",
        "import os"
      ],
      "metadata": {
        "id": "oA4aKPDpEI_l"
      },
      "execution_count": 12,
      "outputs": []
    },
    {
      "cell_type": "code",
      "source": [
        "# Set your OpenAI API key (replace with your actual key)\n",
        "os.environ[\"OPENAI_API_KEY\"] = \"...\"  # Replace with your key\n",
        "\n",
        "# Initialize OpenTelemetry with console output\n",
        "init_otel(\"agora-chat-demo\")"
      ],
      "metadata": {
        "colab": {
          "base_uri": "https://localhost:8080/"
        },
        "id": "eE5BSrOUDb5g",
        "outputId": "d8ab6d0c-6681-4141-8eda-eccf9ceefa17"
      },
      "execution_count": 13,
      "outputs": [
        {
          "output_type": "stream",
          "name": "stderr",
          "text": [
            "WARNING:opentelemetry.trace:Overriding of current TracerProvider is not allowed\n"
          ]
        },
        {
          "output_type": "stream",
          "name": "stdout",
          "text": [
            "✅ OpenTelemetry initialized for agora-chat-demo\n"
          ]
        },
        {
          "output_type": "execute_result",
          "data": {
            "text/plain": [
              "<opentelemetry.sdk.trace.TracerProvider at 0x7fbe766b3470>"
            ]
          },
          "metadata": {},
          "execution_count": 13
        }
      ]
    },
    {
      "cell_type": "code",
      "source": [
        "class SendPrompt(AuditedAsyncNode):\n",
        "    \"\"\"Node that sends a prompt to OpenAI and gets a response\"\"\"\n",
        "\n",
        "    async def exec_async(self, prep_res):\n",
        "        # Create OpenAI client\n",
        "        client = OpenAI()\n",
        "\n",
        "        # Make API call\n",
        "        response = client.chat.completions.create(\n",
        "            model=\"gpt-4o-mini\",\n",
        "            messages=[{\"role\": \"user\", \"content\": \"Say hello briefly\"}]\n",
        "        )\n",
        "\n",
        "        # Extract and return the response text\n",
        "        return response.choices[0].message.content\n",
        "\n",
        "\n",
        "class PrintResponse(AuditedAsyncNode):\n",
        "    \"\"\"Node that prints the model's response\"\"\"\n",
        "\n",
        "    async def exec_async(self, text):\n",
        "        print(\"\\n\" + \"=\"*50)\n",
        "        print(\"Model said:\", text)\n",
        "        print(\"=\"*50 + \"\\n\")\n",
        "        return text"
      ],
      "metadata": {
        "id": "S7Mq3TaOELE8"
      },
      "execution_count": 14,
      "outputs": []
    },
    {
      "cell_type": "code",
      "source": [
        "class ChatFlow(AuditedAsyncFlow):\n",
        "    \"\"\"Simple chat flow: send prompt -> print response\"\"\"\n",
        "\n",
        "    def __init__(self, logger):\n",
        "        super().__init__(\"chat_flow\", logger)\n",
        "\n",
        "        # Create nodes\n",
        "        send = SendPrompt(\"send_prompt\", logger)\n",
        "        show = PrintResponse(\"print_response\", logger)\n",
        "\n",
        "        # Build flow\n",
        "        self.start(send)\n",
        "        send >> show"
      ],
      "metadata": {
        "id": "1XuJN4ZYETX_"
      },
      "execution_count": 15,
      "outputs": []
    },
    {
      "cell_type": "code",
      "source": [
        "\n",
        "async def main():\n",
        "    \"\"\"Main async function to run the workflow\"\"\"\n",
        "\n",
        "    print(\"\\n🚀 Starting Agora Chat Flow with Hierarchical Tracing\\n\")\n",
        "\n",
        "    # Create audit logger with custom save directory\n",
        "    logger = AuditLogger(save_dir=\"./traces\")\n",
        "\n",
        "    # Create and run flow\n",
        "    flow = ChatFlow(logger)\n",
        "    result = await flow._run_async({})\n",
        "\n",
        "    # Save trace data to JSON\n",
        "    print(\"\\n📊 Saving trace data...\")\n",
        "    logger.save_trace_json(\"trace.json\")\n",
        "\n",
        "    # Display summary\n",
        "    print(\"\\n📈 Audit Summary:\")\n",
        "    summary = logger.get_summary()\n",
        "    print(f\"  - Total events: {summary['total_events']}\")\n",
        "    print(f\"  - Duration: {summary['duration_seconds']:.2f} seconds\")\n",
        "    print(f\"  - Event types: {summary['event_counts']}\")\n",
        "\n",
        "    print(\"\\n✅ Complete! Check ./traces/trace.json for hierarchical trace data\")\n",
        "\n",
        "    return result\n",
        "\n"
      ],
      "metadata": {
        "id": "hYyeEBecEXFq"
      },
      "execution_count": 16,
      "outputs": []
    },
    {
      "cell_type": "code",
      "source": [
        "result = await main()\n"
      ],
      "metadata": {
        "colab": {
          "base_uri": "https://localhost:8080/"
        },
        "id": "NXYQTKHSEzoc",
        "outputId": "4f3cfda2-5754-4df8-f49d-ac0ac125e7a2"
      },
      "execution_count": 17,
      "outputs": [
        {
          "output_type": "stream",
          "name": "stdout",
          "text": [
            "\n",
            "🚀 Starting Agora Chat Flow with Hierarchical Tracing\n",
            "\n",
            "{\n",
            "    \"name\": \"node.send_prompt\",\n",
            "    \"context\": {\n",
            "        \"trace_id\": \"0xf7c2d5d1aa3ea315dba030cd898b6ba5\",\n",
            "        \"span_id\": \"0x00aaf6ef3d0f79d4\",\n",
            "        \"trace_state\": \"[]\"\n",
            "    },\n",
            "    \"kind\": \"SpanKind.INTERNAL\",\n",
            "    \"parent_id\": \"0xed418f5196c73da5\",\n",
            "    \"start_time\": \"2025-10-07T19:26:18.738023Z\",\n",
            "    \"end_time\": \"2025-10-07T19:26:20.352667Z\",\n",
            "    \"status\": {\n",
            "        \"status_code\": \"UNSET\"\n",
            "    },\n",
            "    \"attributes\": {\n",
            "        \"node_name\": \"send_prompt\",\n",
            "        \"node_type\": \"SendPrompt\",\n",
            "        \"latency_ms\": \"1614.5331859588623\",\n",
            "        \"result_type\": \"NoneType\",\n",
            "        \"output_batch_size\": \"6\"\n",
            "    },\n",
            "    \"events\": [],\n",
            "    \"links\": [],\n",
            "    \"resource\": {\n",
            "        \"attributes\": {\n",
            "            \"telemetry.sdk.language\": \"python\",\n",
            "            \"telemetry.sdk.name\": \"opentelemetry\",\n",
            "            \"telemetry.sdk.version\": \"1.37.0\",\n",
            "            \"service.name\": \"agora-chat-demo\"\n",
            "        },\n",
            "        \"schema_url\": \"\"\n",
            "    }\n",
            "}\n",
            "\n",
            "==================================================\n",
            "Model said: None\n",
            "==================================================\n",
            "\n",
            "{\n",
            "    \"name\": \"node.print_response\",\n",
            "    \"context\": {\n",
            "        \"trace_id\": \"0xf7c2d5d1aa3ea315dba030cd898b6ba5\",\n",
            "        \"span_id\": \"0x3ecd2d4a3ecccb24\",\n",
            "        \"trace_state\": \"[]\"\n",
            "    },\n",
            "    \"kind\": \"SpanKind.INTERNAL\",\n",
            "    \"parent_id\": \"0xed418f5196c73da5\",\n",
            "    \"start_time\": \"2025-10-07T19:26:20.353712Z\",\n",
            "    \"end_time\": \"2025-10-07T19:26:20.353891Z\",\n",
            "    \"status\": {\n",
            "        \"status_code\": \"UNSET\"\n",
            "    },\n",
            "    \"attributes\": {\n",
            "        \"node_name\": \"print_response\",\n",
            "        \"node_type\": \"PrintResponse\",\n",
            "        \"latency_ms\": \"0.18835067749023438\",\n",
            "        \"result_type\": \"NoneType\"\n",
            "    },\n",
            "    \"events\": [],\n",
            "    \"links\": [],\n",
            "    \"resource\": {\n",
            "        \"attributes\": {\n",
            "            \"telemetry.sdk.language\": \"python\",\n",
            "            \"telemetry.sdk.name\": \"opentelemetry\",\n",
            "            \"telemetry.sdk.version\": \"1.37.0\",\n",
            "            \"service.name\": \"agora-chat-demo\"\n",
            "        },\n",
            "        \"schema_url\": \"\"\n",
            "    }\n",
            "}\n",
            "{\n",
            "    \"name\": \"flow.chat_flow\",\n",
            "    \"context\": {\n",
            "        \"trace_id\": \"0xf7c2d5d1aa3ea315dba030cd898b6ba5\",\n",
            "        \"span_id\": \"0xed418f5196c73da5\",\n",
            "        \"trace_state\": \"[]\"\n",
            "    },\n",
            "    \"kind\": \"SpanKind.INTERNAL\",\n",
            "    \"parent_id\": null,\n",
            "    \"start_time\": \"2025-10-07T19:26:18.737929Z\",\n",
            "    \"end_time\": \"2025-10-07T19:26:20.354685Z\",\n",
            "    \"status\": {\n",
            "        \"status_code\": \"UNSET\"\n",
            "    },\n",
            "    \"attributes\": {\n",
            "        \"flow_name\": \"chat_flow\",\n",
            "        \"flow_type\": \"ChatFlow\",\n",
            "        \"total_latency_ms\": \"1616.7278289794922\"\n",
            "    },\n",
            "    \"events\": [],\n",
            "    \"links\": [],\n",
            "    \"resource\": {\n",
            "        \"attributes\": {\n",
            "            \"telemetry.sdk.language\": \"python\",\n",
            "            \"telemetry.sdk.name\": \"opentelemetry\",\n",
            "            \"telemetry.sdk.version\": \"1.37.0\",\n",
            "            \"service.name\": \"agora-chat-demo\"\n",
            "        },\n",
            "        \"schema_url\": \"\"\n",
            "    }\n",
            "}\n",
            "\n",
            "📊 Saving trace data...\n",
            "✅ Trace saved to ./traces/trace.json\n",
            "\n",
            "📈 Audit Summary:\n",
            "  - Total events: 7\n",
            "  - Duration: 1.62 seconds\n",
            "  - Event types: {'flow_start': 1, 'node_start': 2, 'node_success': 2, 'flow_transition': 1, 'flow_end': 1}\n",
            "\n",
            "✅ Complete! Check ./traces/trace.json for hierarchical trace data\n"
          ]
        }
      ]
    }
  ]
}